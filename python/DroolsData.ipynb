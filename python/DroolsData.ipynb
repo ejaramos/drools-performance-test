{
 "cells": [
  {
   "cell_type": "code",
   "execution_count": 78,
   "metadata": {
    "collapsed": true
   },
   "outputs": [],
   "source": [
    "'''\n",
    "Create a dataset with given probabilities\n",
    "Sample Fact:\n",
    "    Fact1:\n",
    "        CategoricalProperty: (val1: probabilty1, A: 1/2, B: 1/4, C: 1/8, D: 1/8)\n",
    "        GaussianProperty: (0-1, normal distribution)\n",
    "        RandomProperty: ()\n",
    "\n",
    "''' \n",
    "import csv\n",
    "import numpy as np"
   ]
  },
  {
   "cell_type": "code",
   "execution_count": 84,
   "metadata": {},
   "outputs": [],
   "source": [
    "num_facts = 100000 \n",
    "facts = []\n",
    "while True:\n",
    "    categorical_property_values = ['A', 'B', 'C', 'D'] \n",
    "    categorical_property = \\\n",
    "        np.random.choice(categorical_property_values, 1, p=[.5, .25, .125, .125])\n",
    "    gaussian_probability = np.random.rand()\n",
    "    random_probability = np.random.randint(0, 10)\n",
    "    \n",
    "    new_fact = {\n",
    "            'cat': categorical_property[0], \n",
    "            'gauss': gaussian_probability,\n",
    "            'rand': random_probability\n",
    "           }\n",
    "    facts.append(new_fact)\n",
    "    if len(facts) >= num_facts: break"
   ]
  },
  {
   "cell_type": "code",
   "execution_count": 85,
   "metadata": {},
   "outputs": [
    {
     "name": "stdout",
     "output_type": "stream",
     "text": [
      "[{'rand': 4, 'gauss': 0.8764968487442351, 'cat': 'A'}, {'rand': 2, 'gauss': 0.8032103386458863, 'cat': 'D'}, {'rand': 6, 'gauss': 0.6669261690007011, 'cat': 'D'}, {'rand': 8, 'gauss': 0.12922687076484562, 'cat': 'A'}, {'rand': 1, 'gauss': 0.5812620000098994, 'cat': 'A'}, {'rand': 5, 'gauss': 0.8456728153958357, 'cat': 'B'}, {'rand': 2, 'gauss': 0.08011012760468683, 'cat': 'A'}, {'rand': 6, 'gauss': 0.8202562387582168, 'cat': 'A'}, {'rand': 7, 'gauss': 0.9914991786474768, 'cat': 'C'}, {'rand': 0, 'gauss': 0.6871147109462103, 'cat': 'C'}]\n"
     ]
    }
   ],
   "source": [
    "print(facts[:10])"
   ]
  },
  {
   "cell_type": "code",
   "execution_count": 89,
   "metadata": {},
   "outputs": [],
   "source": [
    "# generate csv based on list^\n",
    "fn = 'data.csv'\n",
    "with open(fn, 'w') as csvfile:\n",
    "    fact_writer = csv.writer(csvfile, delimiter=',')\n",
    "    # fact_writer.writerow(['category', 'gauss', 'random'])\n",
    "    for f in facts:\n",
    "        fact_writer.writerow([f['cat'], f['gauss'], f['rand']])"
   ]
  },
  {
   "cell_type": "code",
   "execution_count": null,
   "metadata": {
    "collapsed": true
   },
   "outputs": [],
   "source": []
  }
 ],
 "metadata": {
  "kernelspec": {
   "display_name": "Python 2",
   "language": "python",
   "name": "python2"
  },
  "language_info": {
   "codemirror_mode": {
    "name": "ipython",
    "version": 2
   },
   "file_extension": ".py",
   "mimetype": "text/x-python",
   "name": "python",
   "nbconvert_exporter": "python",
   "pygments_lexer": "ipython2",
   "version": "2.7.10"
  }
 },
 "nbformat": 4,
 "nbformat_minor": 2
}
